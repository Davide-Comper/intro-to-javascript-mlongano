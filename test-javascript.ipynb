{
 "cells": [
  {
   "cell_type": "markdown",
   "metadata": {},
   "source": [
    "# Titolo\n",
    "## h2\n",
    "### h3"
   ]
  },
  {
   "cell_type": "code",
   "execution_count": null,
   "metadata": {},
   "outputs": [],
   "source": [
    "console.log('Hello, World!');"
   ]
  },
  {
   "cell_type": "code",
   "execution_count": null,
   "metadata": {},
   "outputs": [],
   "source": [
    "let age=30;\n",
    "let age1=age;\n",
    "age=31;\n",
    "console.log(age,age1);"
   ]
  },
  {
   "cell_type": "code",
   "execution_count": null,
   "metadata": {},
   "outputs": [],
   "source": [
    "let immutable=\"hello\";\n",
    "\n",
    "let copy=immutable.slice(0,4);\n",
    "console.log(immutable, copy)"
   ]
  },
  {
   "cell_type": "code",
   "execution_count": null,
   "metadata": {},
   "outputs": [],
   "source": [
    "let mutable=[1,2,3];\n",
    "let mutableCopy = mutable;\n",
    "mutableCopy.push(5);\n",
    "console.log(mutable,mutableCopy)"
   ]
  },
  {
   "cell_type": "code",
   "execution_count": null,
   "metadata": {},
   "outputs": [],
   "source": [
    "function modifyPrimitive(value) {\n",
    "    value = \"Cambiato all'interno della funzione\";\n",
    "    console.log(\"Dentro:\", value); // Dentro: Cambiato all'interno della funzione\n",
    "}\n",
    "\n",
    "let str = \"Originale\";\n",
    "modifyPrimitive(str);\n",
    "console.log(\"Fuori:\", str); // Fuori: Originale"
   ]
  },
  {
   "cell_type": "code",
   "execution_count": null,
   "metadata": {},
   "outputs": [],
   "source": [
    "let info = { Name: 'ABC', Age: 10 }; // L'oggetto è memorizzato sull'heap\n",
    "let info1 = info; // info1 e info2 puntano allo stesso riferimento\n",
    "\n",
    "console.table(info); // Output: { name: 'ABC', age: 10 }\n",
    "console.table(info1); // Output: { name: 'ABC', age: 10 }\n",
    "// Modificare una proprietà riferita da info1 e non modificare il rifereimento di info1 farà si che info e info1 recuperino lo stesso oggetto con i valori aggiornati\n",
    "info1.Age = 14;\n",
    "console.table(info); // Output: { name: 'ABC', age: 14 }\n",
    "console.table(info1); // Output: { name: 'ABC', age: 14 }"
   ]
  },
  {
   "cell_type": "code",
   "execution_count": 60,
   "metadata": {},
   "outputs": [
    {
     "name": "stdout",
     "output_type": "stream",
     "text": [
      "\n",
      "per avere stringhe su + righe\n",
      "fare ALT + 96\n"
     ]
    }
   ],
   "source": [
    "let backtick=`\n",
    "per avere stringhe su + righe\n",
    "fare ALT + 96`\n",
    "\n",
    "console.log(backtick)"
   ]
  },
  {
   "cell_type": "code",
   "execution_count": 61,
   "metadata": {},
   "outputs": [
    {
     "name": "stdout",
     "output_type": "stream",
     "text": [
      "Il tipo di isStudent è string\n"
     ]
    }
   ],
   "source": [
    "console.log(`Il tipo di isStudent è ${typeof backtick}`); // Output: \"Il tipo di isStudent è string\""
   ]
  }
 ],
 "metadata": {
  "kernelspec": {
   "display_name": "Deno",
   "language": "typescript",
   "name": "deno"
  },
  "language_info": {
   "file_extension": ".ts",
   "mimetype": "text/x.typescript",
   "name": "typescript",
   "nb_converter": "script",
   "pygments_lexer": "typescript",
   "version": "5.3.3"
  }
 },
 "nbformat": 4,
 "nbformat_minor": 4
}
